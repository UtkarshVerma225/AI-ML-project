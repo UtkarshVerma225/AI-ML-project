{
 "cells": [
  {
   "cell_type": "code",
   "execution_count": 1,
   "metadata": {},
   "outputs": [],
   "source": [
    "class water_jug:\n",
    "    a=int()\n",
    "    b=int()"
   ]
  },
  {
   "cell_type": "code",
   "execution_count": 2,
   "metadata": {},
   "outputs": [],
   "source": [
    "def addlevel(llist):\n",
    "    if llist[0] not in layer:\n",
    "        layer[llist[0]]=[]\n",
    "    for i in range(1,len(llist)):\n",
    "        layer[llist[0]].append(llist[i])"
   ]
  },
  {
   "cell_type": "code",
   "execution_count": 4,
   "metadata": {},
   "outputs": [],
   "source": [
    "def fillA(val):\n",
    "    val[0]=c1"
   ]
  },
  {
   "cell_type": "code",
   "execution_count": 5,
   "metadata": {},
   "outputs": [],
   "source": [
    "def fillB(val):\n",
    "    val[1]=c2"
   ]
  },
  {
   "cell_type": "code",
   "execution_count": 6,
   "metadata": {},
   "outputs": [],
   "source": [
    "def emptyA(val):\n",
    "    val[0]=0"
   ]
  },
  {
   "cell_type": "code",
   "execution_count": 7,
   "metadata": {},
   "outputs": [],
   "source": [
    "def emptyB(val):\n",
    "    val[1]=0"
   ]
  },
  {
   "cell_type": "code",
   "execution_count": 8,
   "metadata": {},
   "outputs": [],
   "source": [
    "def AtoB(val):\n",
    "    v=val[0]+val[1]\n",
    "    if(v<=c2):\n",
    "        val[1]=v\n",
    "        val[0]=0\n",
    "    else:\n",
    "        val[1]=c2\n",
    "        val[0]=v-c2"
   ]
  },
  {
   "cell_type": "code",
   "execution_count": 9,
   "metadata": {},
   "outputs": [],
   "source": [
    "def BtoA(val):\n",
    "    v=val[0]+val[1]\n",
    "    if(v<=c1):\n",
    "        val[0]=v\n",
    "        val[1]=0\n",
    "    else:\n",
    "        val[0]=c1\n",
    "        val[1]=v-c1"
   ]
  },
  {
   "cell_type": "code",
   "execution_count": 10,
   "metadata": {},
   "outputs": [],
   "source": [
    "def check_rep(ini,f_layer):\n",
    "    for i in f_layer:\n",
    "        if(i.a is ini[0] and i.b is ini[1]):\n",
    "            return 1\n",
    "    return 0"
   ]
  },
  {
   "cell_type": "code",
   "execution_count": 11,
   "metadata": {},
   "outputs": [],
   "source": [
    "def find_path(layer):\n",
    "    ini=obj[0]\n",
    "    visited=[]\n",
    "    all_p=[]\n",
    "    count=0\n",
    "    flag=0\n",
    "    while(count==0):\n",
    "        visited.append(ini)\n",
    "        all_p.append(ini)\n",
    "        if(ini.b is 2):\n",
    "            for i in visited:\n",
    "                print(\"(\"+str(i.a)+\",\"+str(i.b)+\")\",end=\"  \")\n",
    "            print(end=\"\\n\")\n",
    "            flag=0\n",
    "            while(flag==0):\n",
    "                del(visited[len(visited)-1])\n",
    "                ini=visited[len(visited)-1]\n",
    "                for i in layer[ini]:\n",
    "                    if(i not in all_p):\n",
    "                        ini=i\n",
    "                        flag=1\n",
    "                        break\n",
    "                if(ini==obj[0]):\n",
    "                    flag=1\n",
    "                    count=1\n",
    "                if(flag==0):\n",
    "                    continue\n",
    "        elif(len(layer[ini])==0):\n",
    "            flag=0\n",
    "            while(flag==0):\n",
    "                del(visited[len(visited)-1])\n",
    "                ini=visited[len(visited)-1]\n",
    "                for i in layer[ini]:\n",
    "                    if(i not in all_p):\n",
    "                        ini=i\n",
    "                        flag=1\n",
    "                        break\n",
    "                if(ini==obj[0]):\n",
    "                    flag=1\n",
    "                    count=1\n",
    "                if(flag==0):\n",
    "                    continue\n",
    "        else:\n",
    "            for i in layer[ini]:\n",
    "                if(i not in visited):\n",
    "                    ini=i\n",
    "                    break"
   ]
  },
  {
   "cell_type": "code",
   "execution_count": 12,
   "metadata": {},
   "outputs": [],
   "source": [
    "global p\n",
    "p=0\n",
    "c1=3\n",
    "c2=4\n",
    "obj={}\n",
    "layer=dict()\n",
    "ini=[0,0]\n",
    "var1=ini[0]\n",
    "var2=ini[1]\n",
    "obj[p]=water_jug()\n",
    "obj[p].a=var1\n",
    "obj[p].b=var2\n",
    "f_layer=[]\n",
    "BFS=[]\n",
    "all_n=[]\n",
    "f_layer.append(obj[p])\n",
    "BFS.append(obj[p])\n",
    "all_n.append(obj[p])\n",
    "p+=1"
   ]
  },
  {
   "cell_type": "code",
   "execution_count": 13,
   "metadata": {},
   "outputs": [],
   "source": [
    "c=0\n",
    "while(BFS):\n",
    "    while(c<6):\n",
    "        if(c==0):\n",
    "            fillA(ini)\n",
    "        if(c==1):\n",
    "            fillB(ini)\n",
    "        if(c==2):\n",
    "            emptyA(ini)\n",
    "        if(c==3):\n",
    "            emptyB(ini)\n",
    "        if(c==4):\n",
    "            AtoB(ini)\n",
    "        if(c==5):\n",
    "            BtoA(ini)\n",
    "        if(check_rep(ini,f_layer)==0 and check_rep(ini,all_n)==0):\n",
    "            obj[p]=water_jug()\n",
    "            obj[p].a=ini[0]\n",
    "            obj[p].b=ini[1]\n",
    "            f_layer.append(obj[p])\n",
    "            all_n.append(obj[p])\n",
    "            BFS.append(obj[p])\n",
    "            p+=1\n",
    "        ini=[var1,var2]\n",
    "        c+=1\n",
    "    addlevel(f_layer)\n",
    "    del BFS[0]\n",
    "    if(len(BFS)==0):\n",
    "        break\n",
    "    var1=BFS[0].a\n",
    "    var2=BFS[0].b\n",
    "    ini=[var1,var2]\n",
    "    f_layer=[]\n",
    "    f_layer.append(BFS[0])\n",
    "    c=0"
   ]
  },
  {
   "cell_type": "code",
   "execution_count": 14,
   "metadata": {},
   "outputs": [
    {
     "name": "stdout",
     "output_type": "stream",
     "text": [
      "(0,0): (3,0), (0,4), \n",
      "(3,0): (3,4), (0,3), \n",
      "(0,4): (3,1), \n",
      "(3,4): \n",
      "(0,3): (3,3), \n",
      "(3,1): (0,1), \n",
      "(3,3): (2,4), \n",
      "(0,1): (1,0), \n",
      "(2,4): (2,0), \n",
      "(1,0): (1,4), \n",
      "(2,0): (0,2), \n",
      "(1,4): (3,2), \n",
      "(0,2): \n",
      "(3,2): \n"
     ]
    }
   ],
   "source": [
    "for i in layer:\n",
    "    print(\"(\"+str(i.a)+\",\"+str(i.b)+\")\",end=\": \")\n",
    "    for j in layer[i]:\n",
    "        print(\"(\"+str(j.a)+\",\"+str(j.b)+\")\",end=\", \")\n",
    "    print(end=\"\\n\")"
   ]
  },
  {
   "cell_type": "code",
   "execution_count": 15,
   "metadata": {},
   "outputs": [
    {
     "name": "stdout",
     "output_type": "stream",
     "text": [
      "(0,0)  (3,0)  (0,3)  (3,3)  (2,4)  (2,0)  (0,2)  \n",
      "(0,0)  (0,4)  (3,1)  (0,1)  (1,0)  (1,4)  (3,2)  \n"
     ]
    }
   ],
   "source": [
    "find_path(layer)"
   ]
  },
  {
   "cell_type": "code",
   "execution_count": null,
   "metadata": {},
   "outputs": [],
   "source": []
  }
 ],
 "metadata": {
  "kernelspec": {
   "display_name": "Python 3",
   "language": "python",
   "name": "python3"
  },
  "language_info": {
   "codemirror_mode": {
    "name": "ipython",
    "version": 3
   },
   "file_extension": ".py",
   "mimetype": "text/x-python",
   "name": "python",
   "nbconvert_exporter": "python",
   "pygments_lexer": "ipython3",
   "version": "3.7.6"
  }
 },
 "nbformat": 4,
 "nbformat_minor": 4
}
